{
  "nbformat": 4,
  "nbformat_minor": 0,
  "metadata": {
    "colab": {
      "provenance": []
    },
    "kernelspec": {
      "name": "python3",
      "display_name": "Python 3"
    },
    "language_info": {
      "name": "python"
    }
  },
  "cells": [
    {
      "cell_type": "code",
      "execution_count": 1,
      "metadata": {
        "id": "ZJ8FCys4bdzH",
        "colab": {
          "base_uri": "https://localhost:8080/"
        },
        "outputId": "8fa81822-0815-4d52-ed09-1f812e01262f"
      },
      "outputs": [
        {
          "output_type": "stream",
          "name": "stdout",
          "text": [
            "Mounted at /content/drive\n",
            "Accuracy: 0.90\n",
            "The article is classified as genuine.\n"
          ]
        }
      ],
      "source": [
        "import pandas as pd\n",
        "from sklearn.model_selection import train_test_split\n",
        "from sklearn.feature_extraction.text import TfidfVectorizer\n",
        "from sklearn.naive_bayes import MultinomialNB\n",
        "from sklearn.metrics import accuracy_score\n",
        "from google.colab import drive\n",
        "drive.mount('/content/drive')\n",
        "\n",
        "# Load your dataset (replace 'data.csv' with your actual dataset file)\n",
        "data = pd.read_csv('/content/drive/MyDrive/fake_or_real_news.csv')\n",
        "\n",
        "# Assuming your dataset has 'text' as the feature column and 'label' as the target column\n",
        "X = data['text']\n",
        "y = data['label']\n",
        "\n",
        "# Split the dataset into training and testing sets\n",
        "X_train, X_test, y_train, y_test = train_test_split(X, y, test_size=0.2, random_state=42)\n",
        "\n",
        "# Initialize a TF-IDF vectorizer\n",
        "vectorizer = TfidfVectorizer(max_features=5000)  # You can adjust max_features as needed\n",
        "\n",
        "# Transform the text data into TF-IDF features\n",
        "X_train_tfidf = vectorizer.fit_transform(X_train)\n",
        "X_test_tfidf = vectorizer.transform(X_test)\n",
        "\n",
        "# Initialize a Naive Bayes classifier\n",
        "classifier = MultinomialNB()\n",
        "\n",
        "# Train the classifier on the training data\n",
        "classifier.fit(X_train_tfidf, y_train)\n",
        "\n",
        "# Make predictions on the test data\n",
        "y_pred = classifier.predict(X_test_tfidf)\n",
        "\n",
        "# Calculate and print accuracy\n",
        "accuracy = accuracy_score(y_test, y_pred)\n",
        "print(f'Accuracy: {accuracy:.2f}')\n",
        "\n",
        "# You can now use this trained model to predict the authenticity of new news articles\n",
        "new_article = [\"Bernie supporters on Twitter erupt in anger against the DNC: 'We tried to warn you!'\"]\n",
        "new_article_tfidf = vectorizer.transform(new_article)\n",
        "prediction = classifier.predict(new_article_tfidf)\n",
        "\n",
        "if prediction[0] == 1:\n",
        "    print(\"The article is classified as fake.\")\n",
        "else:\n",
        "    print(\"The article is classified as genuine.\")\n"
      ]
    },
    {
      "cell_type": "code",
      "source": [],
      "metadata": {
        "id": "03RXi_l_bi9_"
      },
      "execution_count": null,
      "outputs": []
    }
  ]
}